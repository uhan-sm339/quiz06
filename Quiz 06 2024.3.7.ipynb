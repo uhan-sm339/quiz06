{
 "cells": [
  {
   "cell_type": "markdown",
   "id": "ddbd44a6-eddc-499e-891a-98434c12bb27",
   "metadata": {
    "deletable": false,
    "editable": false,
    "slideshow": {
     "slide_type": ""
    },
    "tags": []
   },
   "source": [
    "**SM339 &#x25aa; Applied Statistics &#x25aa; Spring 2024 &#x25aa; Uhan**"
   ]
  },
  {
   "cell_type": "markdown",
   "id": "d1fd5d54-36e1-4bb3-bc58-98da8ecc0ca7",
   "metadata": {
    "deletable": false,
    "editable": false,
    "slideshow": {
     "slide_type": ""
    },
    "tags": []
   },
   "source": [
    "# Quiz 6 &mdash; 3/7/2024"
   ]
  },
  {
   "cell_type": "markdown",
   "id": "4d544ec9-f80b-4d04-bb08-37f63c99369c",
   "metadata": {
    "deletable": false,
    "editable": false,
    "slideshow": {
     "slide_type": ""
    },
    "tags": []
   },
   "source": [
    "## Instructions\n",
    "\n",
    "This take-home quiz is due on __Thursday, March 7 at 23:59__.\n",
    "\n",
    "You may use your own course materials, as well as any materials directly linked from the course website. __No collaboration allowed.__\n",
    "\n",
    "Type your answers __directly in this Jupyter notebook__, and submit this notebook (just the `ipynb` file) using the submission form on the [course website](https://courses.uhan.me/sm339/)."
   ]
  },
  {
   "cell_type": "markdown",
   "id": "e8d7feec-28e6-4c32-b1ac-3455cbb2520f",
   "metadata": {
    "deletable": false,
    "editable": false,
    "slideshow": {
     "slide_type": ""
    },
    "tags": []
   },
   "source": [
    "## Problem 1\n",
    "\n",
    "The data frame `MLB2007Standings` from the `Stat2Data` library contains data on many variables for Major League Baseball teams from the 2007 regular season.\n",
    "The winning percentages are in the variable $\\mathit{WinPct}$ and scoring variables include $\\mathit{Runs}$ (scored by a team for the season) an $\\mathit{ERA}$ (essentially the average runs against a team per game).\n",
    "\n",
    "Run the cell below to load and preview this data."
   ]
  },
  {
   "cell_type": "code",
   "execution_count": null,
   "id": "f8a48986-ace4-47b9-9d8e-0408bdcbe92c",
   "metadata": {
    "deletable": false,
    "editable": false,
    "slideshow": {
     "slide_type": ""
    },
    "tags": []
   },
   "outputs": [],
   "source": [
    "library(Stat2Data)\n",
    "data(MLB2007Standings)\n",
    "head(MLB2007Standings)"
   ]
  },
  {
   "cell_type": "markdown",
   "id": "647146fb-91f9-496a-a56b-fd675f058d65",
   "metadata": {
    "deletable": false,
    "editable": false,
    "slideshow": {
     "slide_type": ""
    },
    "tags": []
   },
   "source": [
    "### a.\n",
    "Fit a multiple linear regression model to predict $\\mathit{WinPct}$ based on $\\mathit{Runs}$ and $\\mathit{ERA}$.\n",
    "\n",
    "Provide __only__ the summary output for this part."
   ]
  },
  {
   "cell_type": "code",
   "execution_count": null,
   "id": "e26c76fe-5fd4-4ef1-aefc-6b6430256e44",
   "metadata": {
    "deletable": false,
    "editable": true,
    "slideshow": {
     "slide_type": ""
    },
    "tags": []
   },
   "outputs": [],
   "source": []
  },
  {
   "cell_type": "markdown",
   "id": "77bc17da-c09e-4a58-add2-864e0241be87",
   "metadata": {
    "deletable": false,
    "editable": false,
    "slideshow": {
     "slide_type": ""
    },
    "tags": []
   },
   "source": [
    "### b.\n",
    "In the 2007 season, the Boston Red Sox scored 867 runs and had an ERA of 3.87.\n",
    "Use this information and your fitted model from part a to predict the Red Sox's winning percentage.\n",
    "Use the code cell below as a calculator to show your work."
   ]
  },
  {
   "cell_type": "code",
   "execution_count": null,
   "id": "a7e9444c-42cc-4a63-be31-1a85dacd13d6",
   "metadata": {
    "deletable": false,
    "editable": true,
    "slideshow": {
     "slide_type": ""
    },
    "tags": []
   },
   "outputs": [],
   "source": []
  },
  {
   "cell_type": "markdown",
   "id": "e93b68ab-7f2c-4569-ad38-c50ec7ff5641",
   "metadata": {
    "deletable": false,
    "editable": false,
    "slideshow": {
     "slide_type": ""
    },
    "tags": []
   },
   "source": [
    "### c.\n",
    "It turns out that the Boston Red Sox actually had a winning percentage of 0.593 for the 2007 season.\n",
    "Find the residual.\n",
    "Use the code cell below as a calculator to show your work."
   ]
  },
  {
   "cell_type": "code",
   "execution_count": null,
   "id": "70a7a9fb-b578-4df4-842d-c9321c1b3d6a",
   "metadata": {
    "deletable": false,
    "editable": true,
    "slideshow": {
     "slide_type": ""
    },
    "tags": []
   },
   "outputs": [],
   "source": []
  },
  {
   "cell_type": "markdown",
   "id": "ff0880d5-edf1-4837-b0e2-547250b96a4c",
   "metadata": {
    "deletable": false,
    "editable": false,
    "slideshow": {
     "slide_type": ""
    },
    "tags": []
   },
   "source": [
    "### d.\n",
    "Interpret the estimated coefficient of $\\mathit{ERA}$."
   ]
  },
  {
   "cell_type": "markdown",
   "id": "7964c639-bc8a-45eb-ae29-f8bd2ffc381f",
   "metadata": {
    "deletable": false,
    "editable": true,
    "slideshow": {
     "slide_type": ""
    },
    "tags": []
   },
   "source": [
    "*Write your answer here. Double-click to edit.*"
   ]
  },
  {
   "cell_type": "markdown",
   "id": "fb6cd8fa-2039-44ab-8027-2195974470ac",
   "metadata": {
    "deletable": false,
    "editable": false,
    "slideshow": {
     "slide_type": ""
    },
    "tags": []
   },
   "source": [
    "### e.\n",
    "What is the test statistic and associated $p$-value for the $t$-test on the coefficient of $\\mathit{ERA}$?"
   ]
  },
  {
   "cell_type": "markdown",
   "id": "254abcf9-1ef3-46e5-9331-14b6f008ed3f",
   "metadata": {
    "deletable": false,
    "editable": true,
    "slideshow": {
     "slide_type": ""
    },
    "tags": []
   },
   "source": [
    "*Write your answer here. Double-click to edit.*"
   ]
  },
  {
   "cell_type": "markdown",
   "id": "6c259772-0693-4534-81cf-3c07833491ae",
   "metadata": {
    "deletable": false,
    "editable": false,
    "slideshow": {
     "slide_type": ""
    },
    "tags": []
   },
   "source": [
    "### f.\n",
    "Based on your answer to part e, what do you conclude about the relationship between $\\mathit{WinPct}$ and $\\mathit{ERA}$? Assume a significance level of 0.05."
   ]
  },
  {
   "cell_type": "markdown",
   "id": "a1dd3d84-8272-4932-b773-f07a4060a407",
   "metadata": {
    "deletable": false,
    "editable": true,
    "slideshow": {
     "slide_type": ""
    },
    "tags": []
   },
   "source": [
    "*Write your answer here. Double-click to edit.*"
   ]
  },
  {
   "cell_type": "markdown",
   "id": "19aa8626-2816-40bc-85a5-63fca4230304",
   "metadata": {
    "deletable": false,
    "editable": false,
    "slideshow": {
     "slide_type": ""
    },
    "tags": []
   },
   "source": [
    "### g.\n",
    "Use the `confint()` function in R to find a 90% confidence interval for $\\mathit{Runs}$ and $\\mathit{ERA}$."
   ]
  },
  {
   "cell_type": "code",
   "execution_count": null,
   "id": "74738590-c429-4b5f-9d28-158d059fe51d",
   "metadata": {
    "deletable": false,
    "editable": true,
    "slideshow": {
     "slide_type": ""
    },
    "tags": []
   },
   "outputs": [],
   "source": []
  },
  {
   "cell_type": "markdown",
   "id": "9b1a49b6-3547-4575-865c-78aff50a883e",
   "metadata": {
    "deletable": false,
    "editable": false,
    "slideshow": {
     "slide_type": ""
    },
    "tags": []
   },
   "source": [
    "### h.\n",
    "Interpret the 90% confidence interval for $\\mathit{Runs}$ that you found in part g. Your answer should discuss the relationship between $\\mathit{Runs}$ and $\\mathit{WinPct}$."
   ]
  },
  {
   "cell_type": "markdown",
   "id": "cc3b23d0-54b1-42a6-a472-9823d8b0083e",
   "metadata": {
    "deletable": false,
    "editable": true,
    "slideshow": {
     "slide_type": ""
    },
    "tags": []
   },
   "source": [
    "*Write your answer here. Double-click to edit.*"
   ]
  },
  {
   "cell_type": "markdown",
   "id": "a69ca414-549a-4032-802b-2d5be5125db5",
   "metadata": {
    "deletable": false,
    "editable": false,
    "slideshow": {
     "slide_type": ""
    },
    "tags": []
   },
   "source": [
    "### i.\n",
    "What is the test statistic and associated $p$-value for the ANOVA test for your model?"
   ]
  },
  {
   "cell_type": "markdown",
   "id": "3774f386-425a-4534-90f1-66ade1199871",
   "metadata": {
    "deletable": false,
    "editable": true,
    "slideshow": {
     "slide_type": ""
    },
    "tags": []
   },
   "source": [
    "*Write your answer here. Double-click to edit.*"
   ]
  },
  {
   "cell_type": "markdown",
   "id": "ad4e81b4-e0f1-4e50-8b6a-18ba30aead09",
   "metadata": {
    "deletable": false,
    "editable": false,
    "slideshow": {
     "slide_type": ""
    },
    "tags": []
   },
   "source": [
    "### j.\n",
    "Based on your answer to part i, what do you conclude about the effectiveness of your model as a whole? Assume a significance level of 0.05."
   ]
  },
  {
   "cell_type": "markdown",
   "id": "fc8cc8f2-6b5e-4943-a336-9d56dafa99d9",
   "metadata": {
    "deletable": false,
    "editable": true,
    "slideshow": {
     "slide_type": ""
    },
    "tags": []
   },
   "source": [
    "*Write your answer here. Double-click to edit.*"
   ]
  },
  {
   "cell_type": "markdown",
   "id": "2faf82d7-ecf9-465c-94c1-43a084701c33",
   "metadata": {
    "deletable": false,
    "editable": false,
    "slideshow": {
     "slide_type": ""
    },
    "tags": []
   },
   "source": [
    "### k.\n",
    "What is $R_{adj}^2$ for your model?"
   ]
  },
  {
   "cell_type": "markdown",
   "id": "73b03f96-f09d-4c73-bc90-2b1b2165341d",
   "metadata": {
    "deletable": false,
    "editable": true,
    "slideshow": {
     "slide_type": ""
    },
    "tags": []
   },
   "source": [
    "*Write your answer here. Double-click to edit.*"
   ]
  },
  {
   "cell_type": "markdown",
   "id": "a14477ea-d77f-4ea3-a42f-d378e2c6a829",
   "metadata": {
    "deletable": false,
    "editable": false,
    "slideshow": {
     "slide_type": ""
    },
    "tags": []
   },
   "source": [
    "## Grading rubric\n",
    "    \n",
    "| Problem | Weight |\n",
    "| :-: | -: |\n",
    "| 1a | 1.0 |\n",
    "| 1b | 0.5 |\n",
    "| 1c | 0.5 | \n",
    "| 1d | 0.5 | \n",
    "| 1e | 0.5 | \n",
    "| 1f | 0.5 | \n",
    "| 1g | 0.5 |\n",
    "| 1h | 0.5 | \n",
    "| 1i | 0.5 |\n",
    "| 1j | 0.5 |\n",
    "| 1k | 0.5 |\n",
    "| __Max Score__ | __60__ | "
   ]
  }
 ],
 "metadata": {
  "kernelspec": {
   "display_name": "R",
   "language": "R",
   "name": "ir"
  },
  "language_info": {
   "codemirror_mode": "r",
   "file_extension": ".r",
   "mimetype": "text/x-r-source",
   "name": "R",
   "pygments_lexer": "r",
   "version": "4.2.2"
  }
 },
 "nbformat": 4,
 "nbformat_minor": 5
}
